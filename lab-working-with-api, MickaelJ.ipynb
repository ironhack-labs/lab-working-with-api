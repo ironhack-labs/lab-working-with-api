{
 "cells": [
  {
   "cell_type": "markdown",
   "metadata": {},
   "source": [
    "# Getting the data from the teacher and input it in a variable"
   ]
  },
  {
   "cell_type": "code",
   "execution_count": 1,
   "metadata": {},
   "outputs": [],
   "source": [
    "\n",
    "\n",
    "\n",
    "data = {'Quotes': [{'QuoteId': 1,\n",
    "   'MinPrice': 92.0,\n",
    "   'Direct': False,\n",
    "   'OutboundLeg': {'CarrierIds': [1065],\n",
    "    'OriginId': 81727,\n",
    "    'DestinationId': 50290,\n",
    "    'DepartureDate': '2020-12-12T00:00:00'},\n",
    "   'QuoteDateTime': '2020-09-21T10:49:00'},\n",
    "  {'QuoteId': 2,\n",
    "   'MinPrice': 133.0,\n",
    "   'Direct': True,\n",
    "   'OutboundLeg': {'CarrierIds': [851],\n",
    "    'OriginId': 81727,\n",
    "    'DestinationId': 50290,\n",
    "    'DepartureDate': '2020-12-12T00:00:00'},\n",
    "   'QuoteDateTime': '2020-09-21T10:49:00'}],\n",
    " 'Places': [{'PlaceId': 50290,\n",
    "   'IataCode': 'EWR',\n",
    "   'Name': 'New York Newark',\n",
    "   'Type': 'Station',\n",
    "   'SkyscannerCode': 'EWR',\n",
    "   'CityName': 'New York',\n",
    "   'CityId': 'NYCA',\n",
    "   'CountryName': 'United States'},\n",
    "  {'PlaceId': 60987,\n",
    "   'IataCode': 'JFK',\n",
    "   'Name': 'New York John F. Kennedy',\n",
    "   'Type': 'Station',\n",
    "   'SkyscannerCode': 'JFK',\n",
    "   'CityName': 'New York',\n",
    "   'CityId': 'NYCA',\n",
    "   'CountryName': 'United States'},\n",
    "  {'PlaceId': 65633,\n",
    "   'IataCode': 'LGA',\n",
    "   'Name': 'New York LaGuardia',\n",
    "   'Type': 'Station',\n",
    "   'SkyscannerCode': 'LGA',\n",
    "   'CityName': 'New York',\n",
    "   'CityId': 'NYCA',\n",
    "   'CountryName': 'United States'},\n",
    "  {'PlaceId': 81727,\n",
    "   'IataCode': 'SFO',\n",
    "   'Name': 'San Francisco International',\n",
    "   'Type': 'Station',\n",
    "   'SkyscannerCode': 'SFO',\n",
    "   'CityName': 'San Francisco',\n",
    "   'CityId': 'SFOA',\n",
    "   'CountryName': 'United States'}],\n",
    " 'Carriers': [{'CarrierId': 819, 'Name': 'Aegean Airlines'},\n",
    "  {'CarrierId': 851, 'Name': 'Alaska Airlines'},\n",
    "  {'CarrierId': 870, 'Name': 'jetBlue'},\n",
    "  {'CarrierId': 1065, 'Name': 'Frontier Airlines'},\n",
    "  {'CarrierId': 1721, 'Name': 'Sun Country Airlines'},\n",
    "  {'CarrierId': 1793, 'Name': 'United'},\n",
    "  {'CarrierId': 1902, 'Name': 'Southwest Airlines'}],\n",
    " 'Currencies': [{'Code': 'USD',\n",
    "   'Symbol': '$',\n",
    "   'ThousandsSeparator': ',',\n",
    "   'DecimalSeparator': '.',\n",
    "   'SymbolOnLeft': True,\n",
    "   'SpaceBetweenAmountAndSymbol': False,\n",
    "   'RoundingCoefficient': 0,\n",
    "   'DecimalDigits': 2}]}"
   ]
  },
  {
   "cell_type": "code",
   "execution_count": 2,
   "metadata": {},
   "outputs": [
    {
     "data": {
      "text/plain": [
       "{'Quotes': [{'QuoteId': 1,\n",
       "   'MinPrice': 92.0,\n",
       "   'Direct': False,\n",
       "   'OutboundLeg': {'CarrierIds': [1065],\n",
       "    'OriginId': 81727,\n",
       "    'DestinationId': 50290,\n",
       "    'DepartureDate': '2020-12-12T00:00:00'},\n",
       "   'QuoteDateTime': '2020-09-21T10:49:00'},\n",
       "  {'QuoteId': 2,\n",
       "   'MinPrice': 133.0,\n",
       "   'Direct': True,\n",
       "   'OutboundLeg': {'CarrierIds': [851],\n",
       "    'OriginId': 81727,\n",
       "    'DestinationId': 50290,\n",
       "    'DepartureDate': '2020-12-12T00:00:00'},\n",
       "   'QuoteDateTime': '2020-09-21T10:49:00'}],\n",
       " 'Places': [{'PlaceId': 50290,\n",
       "   'IataCode': 'EWR',\n",
       "   'Name': 'New York Newark',\n",
       "   'Type': 'Station',\n",
       "   'SkyscannerCode': 'EWR',\n",
       "   'CityName': 'New York',\n",
       "   'CityId': 'NYCA',\n",
       "   'CountryName': 'United States'},\n",
       "  {'PlaceId': 60987,\n",
       "   'IataCode': 'JFK',\n",
       "   'Name': 'New York John F. Kennedy',\n",
       "   'Type': 'Station',\n",
       "   'SkyscannerCode': 'JFK',\n",
       "   'CityName': 'New York',\n",
       "   'CityId': 'NYCA',\n",
       "   'CountryName': 'United States'},\n",
       "  {'PlaceId': 65633,\n",
       "   'IataCode': 'LGA',\n",
       "   'Name': 'New York LaGuardia',\n",
       "   'Type': 'Station',\n",
       "   'SkyscannerCode': 'LGA',\n",
       "   'CityName': 'New York',\n",
       "   'CityId': 'NYCA',\n",
       "   'CountryName': 'United States'},\n",
       "  {'PlaceId': 81727,\n",
       "   'IataCode': 'SFO',\n",
       "   'Name': 'San Francisco International',\n",
       "   'Type': 'Station',\n",
       "   'SkyscannerCode': 'SFO',\n",
       "   'CityName': 'San Francisco',\n",
       "   'CityId': 'SFOA',\n",
       "   'CountryName': 'United States'}],\n",
       " 'Carriers': [{'CarrierId': 819, 'Name': 'Aegean Airlines'},\n",
       "  {'CarrierId': 851, 'Name': 'Alaska Airlines'},\n",
       "  {'CarrierId': 870, 'Name': 'jetBlue'},\n",
       "  {'CarrierId': 1065, 'Name': 'Frontier Airlines'},\n",
       "  {'CarrierId': 1721, 'Name': 'Sun Country Airlines'},\n",
       "  {'CarrierId': 1793, 'Name': 'United'},\n",
       "  {'CarrierId': 1902, 'Name': 'Southwest Airlines'}],\n",
       " 'Currencies': [{'Code': 'USD',\n",
       "   'Symbol': '$',\n",
       "   'ThousandsSeparator': ',',\n",
       "   'DecimalSeparator': '.',\n",
       "   'SymbolOnLeft': True,\n",
       "   'SpaceBetweenAmountAndSymbol': False,\n",
       "   'RoundingCoefficient': 0,\n",
       "   'DecimalDigits': 2}]}"
      ]
     },
     "execution_count": 2,
     "metadata": {},
     "output_type": "execute_result"
    }
   ],
   "source": [
    "data"
   ]
  },
  {
   "cell_type": "markdown",
   "metadata": {},
   "source": [
    "#CFollowing the class example, create a function that returns the price, names of origin and arrival airports and the name of the company. Do it for all the flights between two dates that cost the same."
   ]
  },
  {
   "cell_type": "code",
   "execution_count": 16,
   "metadata": {},
   "outputs": [
    {
     "data": {
      "text/plain": [
       "[{'QuoteId': 1,\n",
       "  'MinPrice': 92.0,\n",
       "  'Direct': False,\n",
       "  'OutboundLeg': {'CarrierIds': [1065],\n",
       "   'OriginId': 81727,\n",
       "   'DestinationId': 50290,\n",
       "   'DepartureDate': '2020-12-12T00:00:00'},\n",
       "  'QuoteDateTime': '2020-09-21T10:49:00'},\n",
       " {'QuoteId': 2,\n",
       "  'MinPrice': 133.0,\n",
       "  'Direct': True,\n",
       "  'OutboundLeg': {'CarrierIds': [851],\n",
       "   'OriginId': 81727,\n",
       "   'DestinationId': 50290,\n",
       "   'DepartureDate': '2020-12-12T00:00:00'},\n",
       "  'QuoteDateTime': '2020-09-21T10:49:00'}]"
      ]
     },
     "execution_count": 16,
     "metadata": {},
     "output_type": "execute_result"
    }
   ],
   "source": [
    "# checking the information in the data for the flight\n",
    "\n",
    "data['Quotes']"
   ]
  },
  {
   "cell_type": "code",
   "execution_count": 76,
   "metadata": {},
   "outputs": [
    {
     "name": "stdout",
     "output_type": "stream",
     "text": [
      "[92.0, 133.0]\n"
     ]
    }
   ],
   "source": [
    "# creating a loop manually to get the prices , using For loop to get info from dictionnary quotes\n",
    "\n",
    "n = 0\n",
    "prices_plane = []\n",
    "\n",
    "for i in data['Quotes']:\n",
    "    info = data['Quotes'][n]\n",
    "    prices = 'MinPrice'\n",
    "    p = info.get(prices)  # Use get the prices \n",
    "    prices_plane.append(p)\n",
    "    n += 1\n",
    "\n",
    "# Display the extracted prices\n",
    "print(prices_plane)"
   ]
  },
  {
   "cell_type": "code",
   "execution_count": 77,
   "metadata": {},
   "outputs": [
    {
     "name": "stdout",
     "output_type": "stream",
     "text": [
      "{'Price': 92.0, 'Origin': 'San Francisco International', 'Destination': 'New York Newark', 'Carrier': 'Frontier Airlines'}\n",
      "{'Price': 133.0, 'Origin': 'San Francisco International', 'Destination': 'New York Newark', 'Carrier': 'Alaska Airlines'}\n"
     ]
    }
   ],
   "source": [
    "# Now using the same methode than before to get the prices then the origin and fligth info \n",
    "\n",
    "def API_flight():\n",
    "\n",
    "    flights_info = []\n",
    "    # creating a list\n",
    "    for quote in data['Quotes']:\n",
    "    \n",
    "        price = quote.get('MinPrice')\n",
    "        # getting price\n",
    "        origin_place = next(place['Name'] for place in data['Places'] if place['PlaceId'] == quote['OutboundLeg']['OriginId'])\n",
    "        # plcae origin\n",
    "        destination_place = next(place['Name'] for place in data['Places'] if place['PlaceId'] == quote['OutboundLeg']['DestinationId'])\n",
    "        # destination\n",
    "        carrier_name = next(carrier['Name'] for carrier in data['Carriers'] if carrier['CarrierId'] in quote['OutboundLeg']['CarrierIds'])\n",
    "        # carrier Name\n",
    "        flights_info.append({\n",
    "                'Price': price,\n",
    "                'Origin': origin_place,\n",
    "                'Destination': destination_place,\n",
    "                'Carrier': carrier_name\n",
    "            })    \n",
    "         \n",
    "            \n",
    "           \n",
    "\n",
    "    return flights_info\n",
    "\n",
    "\n",
    "# Display the extracted flight information\n",
    "for flight in result:\n",
    "    print(flight)"
   ]
  }
 ],
 "metadata": {
  "kernelspec": {
   "display_name": "base",
   "language": "python",
   "name": "python3"
  },
  "language_info": {
   "codemirror_mode": {
    "name": "ipython",
    "version": 3
   },
   "file_extension": ".py",
   "mimetype": "text/x-python",
   "name": "python",
   "nbconvert_exporter": "python",
   "pygments_lexer": "ipython3",
   "version": "3.11.6"
  }
 },
 "nbformat": 4,
 "nbformat_minor": 2
}
