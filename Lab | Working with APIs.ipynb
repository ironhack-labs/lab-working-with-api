{
 "cells": [
  {
   "cell_type": "markdown",
   "id": "43f9556f",
   "metadata": {},
   "source": [
    "![logo_ironhack_blue 7](https://user-images.githubusercontent.com/23629340/40541063-a07a0a8a-601a-11e8-91b5-2f13e4e6b441.png)\n",
    "\n",
    "# Lab | Working with APIs\n",
    "\n",
    "#### Instructions \n",
    "\n",
    "Following the class example, create a function that returns the price, names of origin and arrival airports and the name of the company. Do it for all the flights between two dates that cost the same."
   ]
  },
  {
   "cell_type": "code",
   "execution_count": 9,
   "id": "5cb9d381",
   "metadata": {},
   "outputs": [],
   "source": [
    "import requests\n",
    "import pandas as pd\n",
    "import json"
   ]
  },
  {
   "cell_type": "code",
   "execution_count": 10,
   "id": "6d2c65c1",
   "metadata": {},
   "outputs": [
    {
     "name": "stdout",
     "output_type": "stream",
     "text": [
      "{'status': 'RESULT_STATUS_COMPLETE', 'content': {'results': {'quotes': {}, 'carriers': {}, 'places': {}}, 'groupingOptions': {'byRoute': {'quotesGroups': []}, 'byDate': {'quotesInboundGroups': [], 'quotesOutboundGroups': []}}}}\n"
     ]
    }
   ],
   "source": [
    "url = \"https://partners.api.skyscanner.net/apiservices/v3/flights/indicative/search\"\n",
    "\n",
    "payload = { \"query\": {\n",
    "        \"market\": \"UK\",\n",
    "        \"locale\": \"en-GB\",\n",
    "        \"currency\": \"EUR\",\n",
    "        \"queryLegs\": [\n",
    "            {\n",
    "                \"originPlace\": { \"queryPlace\": { \"iata\": \"LIS\" } },\n",
    "                \"destinationPlace\": { \"queryPlace\": { \"iata\": \"LTN\" } },\n",
    "                 \"fixedDate\": {\n",
    "            \"year\": 2023,\n",
    "            \"month\": 5,\n",
    "            \"day\": 17\n",
    "        }\n",
    "            }\n",
    "        ]\n",
    "    } }\n",
    "headers = {\n",
    "    \"x-api-key\": \"prtl6749387986743898559646983194\"\n",
    "}\n",
    "\n",
    "response = requests.post(url, json=payload, headers=headers)\n",
    "\n",
    "print(response.json())"
   ]
  },
  {
   "cell_type": "code",
   "execution_count": 11,
   "id": "97a38f12",
   "metadata": {},
   "outputs": [],
   "source": [
    "def flatten_dict(dd, separator='_', prefix=''):\n",
    "    return {f\"{prefix}{separator}{k}\" if prefix else k: v\n",
    "            for kk, vv in dd.items()\n",
    "            for k, v in (flatten_dict(vv, separator, kk).items() if isinstance(vv, dict) else {kk: vv}.items())}"
   ]
  },
  {
   "cell_type": "code",
   "execution_count": 12,
   "id": "338fad28",
   "metadata": {},
   "outputs": [
    {
     "data": {
      "text/html": [
       "<div>\n",
       "<style scoped>\n",
       "    .dataframe tbody tr th:only-of-type {\n",
       "        vertical-align: middle;\n",
       "    }\n",
       "\n",
       "    .dataframe tbody tr th {\n",
       "        vertical-align: top;\n",
       "    }\n",
       "\n",
       "    .dataframe thead th {\n",
       "        text-align: right;\n",
       "    }\n",
       "</style>\n",
       "<table border=\"1\" class=\"dataframe\">\n",
       "  <thead>\n",
       "    <tr style=\"text-align: right;\">\n",
       "      <th></th>\n",
       "    </tr>\n",
       "  </thead>\n",
       "  <tbody>\n",
       "  </tbody>\n",
       "</table>\n",
       "</div>"
      ],
      "text/plain": [
       "Empty DataFrame\n",
       "Columns: []\n",
       "Index: []"
      ]
     },
     "execution_count": 12,
     "metadata": {},
     "output_type": "execute_result"
    }
   ],
   "source": [
    "output= response.json()\n",
    "results = output['content']['results']\n",
    "quotes = results['quotes']\n",
    "quotes_df = pd.json_normalize(quotes)\n",
    "quotes_df.columns = [col.split(\".\")[-1] for col in quotes_df.columns]\n",
    "flattened_results = [flatten_dict(result) for result in quotes.values()]\n",
    "quote_df = pd.DataFrame.from_records(flattened_results)\n",
    "quote_df"
   ]
  },
  {
   "cell_type": "code",
   "execution_count": 13,
   "id": "8a284a33",
   "metadata": {},
   "outputs": [
    {
     "data": {
      "text/html": [
       "<div>\n",
       "<style scoped>\n",
       "    .dataframe tbody tr th:only-of-type {\n",
       "        vertical-align: middle;\n",
       "    }\n",
       "\n",
       "    .dataframe tbody tr th {\n",
       "        vertical-align: top;\n",
       "    }\n",
       "\n",
       "    .dataframe thead th {\n",
       "        text-align: right;\n",
       "    }\n",
       "</style>\n",
       "<table border=\"1\" class=\"dataframe\">\n",
       "  <thead>\n",
       "    <tr style=\"text-align: right;\">\n",
       "      <th></th>\n",
       "    </tr>\n",
       "  </thead>\n",
       "  <tbody>\n",
       "  </tbody>\n",
       "</table>\n",
       "</div>"
      ],
      "text/plain": [
       "Empty DataFrame\n",
       "Columns: []\n",
       "Index: []"
      ]
     },
     "execution_count": 13,
     "metadata": {},
     "output_type": "execute_result"
    }
   ],
   "source": [
    "def flight_days(origin,destination,start_date,end_date):\n",
    "    url = \"https://skyscanner65.p.rapidapi.com/api/v1/flights/indicative/search\"\n",
    "    all_quotes = []\n",
    "    date_range = pd.date_range(start=start_date, end=end_date, freq='D')\n",
    "    \n",
    "    for date in date_range: \n",
    "        year = date.year\n",
    "        month = date.month\n",
    "        day = date.day          \n",
    "        payload = { \"query\": {\n",
    "                \"market\": \"UK\",\n",
    "                \"locale\": \"en-GB\",\n",
    "                \"currency\": \"EUR\",\n",
    "                \"queryLegs\": [\n",
    "                    {\n",
    "                        \"originPlace\": { \"queryPlace\": { \"iata\": origin } }, \n",
    "                        \"destinationPlace\": { \"queryPlace\": { \"iata\": destination } },\n",
    "                         \"fixedDate\": {\n",
    "                    \"year\": year,\n",
    "                    \"month\": month,\n",
    "                    \"day\": day\n",
    "                }\n",
    "                    }\n",
    "                ]\n",
    "            } }\n",
    "        headers = {\n",
    "            \"content-type\": \"application/json\",\n",
    "            \"X-RapidAPI-Key\": \"7e479aa293mshe073d8fe00da2c0p1948f7jsnc8a5c51b7f32\",\n",
    "            \"X-RapidAPI-Host\": \"skyscanner65.p.rapidapi.com\"\n",
    "        }\n",
    "        \n",
    "        \n",
    "     \n",
    "        output= response.json()\n",
    "        results = output['content']['results']\n",
    "        quotes = results['quotes']\n",
    "        quotes_df = pd.json_normalize(quotes)\n",
    "        quotes_df.columns = [col.split(\".\")[-1] for col in quotes_df.columns]\n",
    "        flattened_results = [flatten_dict(result) for result in quotes.values()]\n",
    "        quote_df = pd.DataFrame.from_records(flattened_results)\n",
    "        all_quotes.append(quote_df)\n",
    "\n",
    "        combined_df = pd.concat(all_quotes)\n",
    "        \n",
    "\n",
    "    \n",
    "    return combined_df \n",
    "\n",
    "flight_data = flight_days('LIS', 'LTN', '2023-05-17', '2023-06-22')\n",
    "flight_data"
   ]
  },
  {
   "cell_type": "code",
   "execution_count": null,
   "id": "5c3b1bed",
   "metadata": {},
   "outputs": [],
   "source": []
  },
  {
   "cell_type": "code",
   "execution_count": null,
   "id": "fdeef273",
   "metadata": {},
   "outputs": [],
   "source": []
  },
  {
   "cell_type": "code",
   "execution_count": null,
   "id": "2bc73de2",
   "metadata": {},
   "outputs": [],
   "source": []
  },
  {
   "cell_type": "code",
   "execution_count": null,
   "id": "8b993db9",
   "metadata": {},
   "outputs": [],
   "source": []
  },
  {
   "cell_type": "code",
   "execution_count": null,
   "id": "84671d73",
   "metadata": {},
   "outputs": [],
   "source": []
  },
  {
   "cell_type": "code",
   "execution_count": null,
   "id": "9e36fd31",
   "metadata": {},
   "outputs": [],
   "source": []
  },
  {
   "cell_type": "code",
   "execution_count": null,
   "id": "92254e0e",
   "metadata": {},
   "outputs": [],
   "source": []
  },
  {
   "cell_type": "code",
   "execution_count": null,
   "id": "03cebd95",
   "metadata": {},
   "outputs": [],
   "source": []
  },
  {
   "cell_type": "code",
   "execution_count": null,
   "id": "1c216287",
   "metadata": {},
   "outputs": [],
   "source": []
  },
  {
   "cell_type": "code",
   "execution_count": null,
   "id": "fdfd2763",
   "metadata": {},
   "outputs": [],
   "source": []
  }
 ],
 "metadata": {
  "kernelspec": {
   "display_name": "Python 3 (ipykernel)",
   "language": "python",
   "name": "python3"
  },
  "language_info": {
   "codemirror_mode": {
    "name": "ipython",
    "version": 3
   },
   "file_extension": ".py",
   "mimetype": "text/x-python",
   "name": "python",
   "nbconvert_exporter": "python",
   "pygments_lexer": "ipython3",
   "version": "3.9.13"
  }
 },
 "nbformat": 4,
 "nbformat_minor": 5
}
