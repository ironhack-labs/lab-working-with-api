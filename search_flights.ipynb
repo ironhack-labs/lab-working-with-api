{
 "cells": [
  {
   "cell_type": "code",
   "execution_count": 2,
   "id": "b4a63834",
   "metadata": {},
   "outputs": [],
   "source": [
    "import pandas as pd\n",
    "import requests\n",
    "from ipywidgets import interact, widgets\n",
    "\n",
    "url = \"https://partners.api.skyscanner.net/apiservices/v3/flights/indicative/search\"\n",
    "headers = {\"x-api-key\": \"prtl6749387986743898559646983194\"}\n",
    "\n",
    "def get_flight_data(date, origin, destination):\n",
    "    payload = {\n",
    "        \"query\": {\n",
    "            \"market\": \"UK\",\n",
    "            \"locale\": \"en-GB\",\n",
    "            \"currency\": \"EUR\",\n",
    "            \"queryLegs\": [\n",
    "                {\n",
    "                    \"originPlace\": {\"queryPlace\": {\"iata\": origin}},\n",
    "                    \"destinationPlace\": {\"queryPlace\": {\"iata\": destination}},\n",
    "                    \"fixedDate\": date,\n",
    "                }\n",
    "            ],\n",
    "        }\n",
    "    }\n",
    "\n",
    "    response = requests.post(url, json=payload, headers=headers)\n",
    "    flight_data = response.json()\n",
    "\n",
    "    flattened_results = []\n",
    "\n",
    "    for quote_key, quote_data in flight_data[\"content\"][\"results\"][\"quotes\"].items():\n",
    "        price = quote_data[\"minPrice\"][\"amount\"]\n",
    "        origin_id = quote_data[\"outboundLeg\"][\"originPlaceId\"]\n",
    "        dest_id = quote_data[\"outboundLeg\"][\"destinationPlaceId\"]\n",
    "        airline_id = quote_data[\"outboundLeg\"][\"marketingCarrierId\"]\n",
    "        origin_name = flight_data[\"content\"][\"results\"][\"places\"][origin_id][\"name\"]\n",
    "        dest_name = flight_data[\"content\"][\"results\"][\"places\"][dest_id][\"name\"]\n",
    "        airline_name = flight_data[\"content\"][\"results\"][\"carriers\"][airline_id][\"name\"]\n",
    "        flight_dict = {\n",
    "            \"date\": f\"{date['year']}-{date['month']}-{date['day']}\",\n",
    "            \"price\": price,\n",
    "            \"origin\": origin_name,\n",
    "            \"destination\": dest_name,\n",
    "            \"company\": airline_name,\n",
    "        }\n",
    "        flattened_results.append(flight_dict)\n",
    "\n",
    "    return pd.DataFrame.from_records(flattened_results)\n",
    "\n",
    "def search_flights():\n",
    "    origin_input = widgets.Text(\n",
    "        value='',\n",
    "        placeholder='Enter origin airport',\n",
    "        description='Origin:',\n",
    "        disabled=False\n",
    "    )\n",
    "    dest_input = widgets.Text(\n",
    "        value='',\n",
    "        placeholder='Enter destination airport',\n",
    "        description='Destination:',\n",
    "        disabled=False\n",
    "    )\n",
    "    date_input = widgets.DatePicker(\n",
    "        description='Date',\n",
    "        disabled=False\n",
    "    )\n",
    "    display(origin_input)\n",
    "    display(dest_input)\n",
    "    display(date_input)\n",
    "    \n",
    "    def handle_search(sender):\n",
    "        origin = origin_input.value.strip().upper()\n",
    "        destination = dest_input.value.strip().upper()\n",
    "        date = {\"year\": date_input.value.year, \"month\": date_input.value.month, \"day\": date_input.value.day}\n",
    "        data = get_flight_data(date, origin, destination)\n",
    "        output.clear_output()\n",
    "        with output:\n",
    "            display(data)\n",
    "    \n",
    "    def handle_reset(sender):\n",
    "        origin_input.value = ''\n",
    "        dest_input.value = ''\n",
    "        date_input.value = None\n",
    "        output.clear_output()\n",
    "        \n",
    "    search_button = widgets.Button(description='Search')\n",
    "    reset_button = widgets.Button(description='Reset')\n",
    "    display(widgets.HBox([search_button, reset_button]))\n",
    "    output = widgets.Output()\n",
    "    display(output)\n",
    "    \n",
    "    search_button.on_click(handle_search)\n",
    "    reset_button.on_click(handle_reset)"
   ]
  },
  {
   "cell_type": "code",
   "execution_count": 3,
   "id": "b70c4ed1",
   "metadata": {},
   "outputs": [
    {
     "data": {
      "application/vnd.jupyter.widget-view+json": {
       "model_id": "03a4e44bf60a48e8bb468d65989afcce",
       "version_major": 2,
       "version_minor": 0
      },
      "text/plain": [
       "Text(value='', description='Origin:', placeholder='Enter origin airport')"
      ]
     },
     "metadata": {},
     "output_type": "display_data"
    },
    {
     "data": {
      "application/vnd.jupyter.widget-view+json": {
       "model_id": "2432bc5b8fde4c4e8589f10d241f3224",
       "version_major": 2,
       "version_minor": 0
      },
      "text/plain": [
       "Text(value='', description='Destination:', placeholder='Enter destination airport')"
      ]
     },
     "metadata": {},
     "output_type": "display_data"
    },
    {
     "data": {
      "application/vnd.jupyter.widget-view+json": {
       "model_id": "2af3edcdca344a44afcc05138a0874e5",
       "version_major": 2,
       "version_minor": 0
      },
      "text/plain": [
       "DatePicker(value=None, description='Date')"
      ]
     },
     "metadata": {},
     "output_type": "display_data"
    },
    {
     "data": {
      "application/vnd.jupyter.widget-view+json": {
       "model_id": "f3ded4b6084d4596a5d0ac97d9e64c16",
       "version_major": 2,
       "version_minor": 0
      },
      "text/plain": [
       "HBox(children=(Button(description='Search', style=ButtonStyle()), Button(description='Reset', style=ButtonStyl…"
      ]
     },
     "metadata": {},
     "output_type": "display_data"
    },
    {
     "data": {
      "application/vnd.jupyter.widget-view+json": {
       "model_id": "773e02ec8c9c487295d05c9ebf70ed53",
       "version_major": 2,
       "version_minor": 0
      },
      "text/plain": [
       "Output()"
      ]
     },
     "metadata": {},
     "output_type": "display_data"
    }
   ],
   "source": [
    "search_flights()"
   ]
  }
 ],
 "metadata": {
  "kernelspec": {
   "display_name": "Python 3 (ipykernel)",
   "language": "python",
   "name": "python3"
  },
  "language_info": {
   "codemirror_mode": {
    "name": "ipython",
    "version": 3
   },
   "file_extension": ".py",
   "mimetype": "text/x-python",
   "name": "python",
   "nbconvert_exporter": "python",
   "pygments_lexer": "ipython3",
   "version": "3.10.9"
  }
 },
 "nbformat": 4,
 "nbformat_minor": 5
}
