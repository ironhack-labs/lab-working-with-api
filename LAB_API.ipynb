{
 "cells": [
  {
   "cell_type": "code",
   "execution_count": 1,
   "id": "9c3d914b",
   "metadata": {},
   "outputs": [
    {
     "data": {
      "text/plain": [
       "'\\nFollowing the class example, create a function that returns the price, names of origin and arrival airports and \\nthe name of the company. Do it for all the flights between two dates that cost the same.\\n\\n'"
      ]
     },
     "execution_count": 1,
     "metadata": {},
     "output_type": "execute_result"
    }
   ],
   "source": [
    "'''\n",
    "Following the class example, create a function that returns the price, names of origin and arrival airports and \n",
    "the name of the company. Do it for all the flights between two dates that cost the same.\n",
    "\n",
    "'''"
   ]
  },
  {
   "cell_type": "code",
   "execution_count": 25,
   "id": "6ac79e77",
   "metadata": {},
   "outputs": [],
   "source": [
    "import pandas as pd"
   ]
  },
  {
   "cell_type": "code",
   "execution_count": 127,
   "id": "1633caf2",
   "metadata": {},
   "outputs": [],
   "source": [
    "flight = {'Quotes': [{'QuoteId': 1,\n",
    "   'MinPrice': 92.0,\n",
    "   'Direct': False,\n",
    "   'OutboundLeg': {'CarrierIds': 1065,\n",
    "    'OriginId': 81727,\n",
    "    'DestinationId': 50290,\n",
    "    'DepartureDate': '2020-12-12T00:00:00'},\n",
    "   'QuoteDateTime': '2020-09-21T10:49:00'},\n",
    "  {'QuoteId': 2,\n",
    "   'MinPrice': 133.0,\n",
    "   'Direct': True,\n",
    "   'OutboundLeg': {'CarrierIds': 851,\n",
    "    'OriginId': 81727,\n",
    "    'DestinationId': 50290,\n",
    "    'DepartureDate': '2020-12-12T00:00:00'},\n",
    "   'QuoteDateTime': '2020-09-21T10:49:00'}],\n",
    " 'Places': [{'PlaceId': 50290,\n",
    "   'IataCode': 'EWR',\n",
    "   'Name': 'New York Newark',\n",
    "   'Type': 'Station',\n",
    "   'SkyscannerCode': 'EWR',\n",
    "   'CityName': 'New York',\n",
    "   'CityId': 'NYCA',\n",
    "   'CountryName': 'United States'},\n",
    "  {'PlaceId': 60987,\n",
    "   'IataCode': 'JFK',\n",
    "   'Name': 'New York John F. Kennedy',\n",
    "   'Type': 'Station',\n",
    "   'SkyscannerCode': 'JFK',\n",
    "   'CityName': 'New York',\n",
    "   'CityId': 'NYCA',\n",
    "   'CountryName': 'United States'},\n",
    "  {'PlaceId': 65633,\n",
    "   'IataCode': 'LGA',\n",
    "   'Name': 'New York LaGuardia',\n",
    "   'Type': 'Station',\n",
    "   'SkyscannerCode': 'LGA',\n",
    "   'CityName': 'New York',\n",
    "   'CityId': 'NYCA',\n",
    "   'CountryName': 'United States'},\n",
    "  {'PlaceId': 81727,\n",
    "   'IataCode': 'SFO',\n",
    "   'Name': 'San Francisco International',\n",
    "   'Type': 'Station',\n",
    "   'SkyscannerCode': 'SFO',\n",
    "   'CityName': 'San Francisco',\n",
    "   'CityId': 'SFOA',\n",
    "   'CountryName': 'United States'}],\n",
    " 'Carriers': [{'CarrierId': 819, 'Name': 'Aegean Airlines'},\n",
    "  {'CarrierId': 851, 'Name': 'Alaska Airlines'},\n",
    "  {'CarrierId': 870, 'Name': 'jetBlue'},\n",
    "  {'CarrierId': 1065, 'Name': 'Frontier Airlines'},\n",
    "  {'CarrierId': 1721, 'Name': 'Sun Country Airlines'},\n",
    "  {'CarrierId': 1793, 'Name': 'United'},\n",
    "  {'CarrierId': 1902, 'Name': 'Southwest Airlines'}],\n",
    " 'Currencies': [{'Code': 'USD',\n",
    "   'Symbol': '$',\n",
    "   'ThousandsSeparator': ',',\n",
    "   'DecimalSeparator': '.',\n",
    "   'SymbolOnLeft': True,\n",
    "   'SpaceBetweenAmountAndSymbol': False,\n",
    "   'RoundingCoefficient': 0,\n",
    "   'DecimalDigits': 2}]}"
   ]
  },
  {
   "cell_type": "code",
   "execution_count": 192,
   "id": "fe7386cb",
   "metadata": {},
   "outputs": [],
   "source": [
    "def flight_search(date1, date2):\n",
    "    \n",
    "    destination = pd.json_normalize(flight['Quotes'])\n",
    "    destination['OutboundLeg.DepartureDate']= pd.to_datetime(destination['OutboundLeg.DepartureDate'])\n",
    "    destination.set_index(destination['OutboundLeg.DepartureDate'], drop=False, append=False, inplace=True)\n",
    "    \n",
    "    \n",
    "    places = pd.json_normalize(flight['Places'])\n",
    "    \n",
    "    carriers = pd.json_normalize(flight['Carriers'])\n",
    "    \n",
    "    destination_sorted = destination.loc[date1:date2]\n",
    "    new_table = destination_sorted[['MinPrice','OutboundLeg.DestinationId','OutboundLeg.OriginId','OutboundLeg.CarrierIds']]\n",
    "    \n",
    "    table_join = pd.merge(new_table, places, left_on='OutboundLeg.DestinationId', right_on ='PlaceId')\n",
    "    table_join1 = pd.merge(table_join, places, left_on='OutboundLeg.OriginId' , right_on ='PlaceId')\n",
    "    table_join2 = pd.merge(table_join1, carriers, left_on='OutboundLeg.CarrierIds', right_on = 'CarrierId')\n",
    "    \n",
    "    return pd.DataFrame({'Price USD':table_join2['MinPrice'],\n",
    "                        'Origin':table_join2['Name_y'],\n",
    "                        'Arrival':table_join2['Name_x'],\n",
    "                        'Company':table_join2['Name']})"
   ]
  },
  {
   "cell_type": "code",
   "execution_count": 190,
   "id": "b78cedd1",
   "metadata": {},
   "outputs": [
    {
     "data": {
      "text/html": [
       "<div>\n",
       "<style scoped>\n",
       "    .dataframe tbody tr th:only-of-type {\n",
       "        vertical-align: middle;\n",
       "    }\n",
       "\n",
       "    .dataframe tbody tr th {\n",
       "        vertical-align: top;\n",
       "    }\n",
       "\n",
       "    .dataframe thead th {\n",
       "        text-align: right;\n",
       "    }\n",
       "</style>\n",
       "<table border=\"1\" class=\"dataframe\">\n",
       "  <thead>\n",
       "    <tr style=\"text-align: right;\">\n",
       "      <th></th>\n",
       "      <th>Price USD</th>\n",
       "      <th>Origin</th>\n",
       "      <th>Arrival</th>\n",
       "      <th>Company</th>\n",
       "    </tr>\n",
       "  </thead>\n",
       "  <tbody>\n",
       "    <tr>\n",
       "      <th>0</th>\n",
       "      <td>92.0</td>\n",
       "      <td>San Francisco International</td>\n",
       "      <td>New York Newark</td>\n",
       "      <td>Frontier Airlines</td>\n",
       "    </tr>\n",
       "    <tr>\n",
       "      <th>1</th>\n",
       "      <td>133.0</td>\n",
       "      <td>San Francisco International</td>\n",
       "      <td>New York Newark</td>\n",
       "      <td>Alaska Airlines</td>\n",
       "    </tr>\n",
       "  </tbody>\n",
       "</table>\n",
       "</div>"
      ],
      "text/plain": [
       "   Price USD                       Origin          Arrival            Company\n",
       "0       92.0  San Francisco International  New York Newark  Frontier Airlines\n",
       "1      133.0  San Francisco International  New York Newark    Alaska Airlines"
      ]
     },
     "execution_count": 190,
     "metadata": {},
     "output_type": "execute_result"
    }
   ],
   "source": [
    "flight_search('12-12-2020', '12-12-2020') "
   ]
  }
 ],
 "metadata": {
  "kernelspec": {
   "display_name": "Python 3 (ipykernel)",
   "language": "python",
   "name": "python3"
  },
  "language_info": {
   "codemirror_mode": {
    "name": "ipython",
    "version": 3
   },
   "file_extension": ".py",
   "mimetype": "text/x-python",
   "name": "python",
   "nbconvert_exporter": "python",
   "pygments_lexer": "ipython3",
   "version": "3.11.5"
  }
 },
 "nbformat": 4,
 "nbformat_minor": 5
}
