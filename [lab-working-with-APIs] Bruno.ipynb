{
 "cells": [
  {
   "cell_type": "code",
   "execution_count": 95,
   "id": "1eb31ed9",
   "metadata": {},
   "outputs": [],
   "source": [
    "import requests\n",
    "import pandas as pd\n",
    "import numpy as np"
   ]
  },
  {
   "cell_type": "code",
   "execution_count": 96,
   "id": "8c6812c0",
   "metadata": {},
   "outputs": [],
   "source": [
    " data = {'Quotes': [{'QuoteId': 1,\n",
    "   'MinPrice': 92.0,\n",
    "   'Direct': False,\n",
    "   'OutboundLeg': {'CarrierIds': [1065],\n",
    "    'OriginId': 81727,\n",
    "    'DestinationId': 50290,\n",
    "    'DepartureDate': '2020-12-12T00:00:00'},\n",
    "   'QuoteDateTime': '2020-09-21T10:49:00'},\n",
    "  {'QuoteId': 2,\n",
    "   'MinPrice': 133.0,\n",
    "   'Direct': True,\n",
    "   'OutboundLeg': {'CarrierIds': [851],\n",
    "    'OriginId': 81727,\n",
    "    'DestinationId': 50290,\n",
    "    'DepartureDate': '2020-12-12T00:00:00'},\n",
    "   'QuoteDateTime': '2020-09-21T10:49:00'}],\n",
    " 'Places': [{'PlaceId': 50290,\n",
    "   'IataCode': 'EWR',\n",
    "   'Name': 'New York Newark',\n",
    "   'Type': 'Station',\n",
    "   'SkyscannerCode': 'EWR',\n",
    "   'CityName': 'New York',\n",
    "   'CityId': 'NYCA',\n",
    "   'CountryName': 'United States'},\n",
    "  {'PlaceId': 60987,\n",
    "   'IataCode': 'JFK',\n",
    "   'Name': 'New York John F. Kennedy',\n",
    "   'Type': 'Station',\n",
    "   'SkyscannerCode': 'JFK',\n",
    "   'CityName': 'New York',\n",
    "   'CityId': 'NYCA',\n",
    "   'CountryName': 'United States'},\n",
    "  {'PlaceId': 65633,\n",
    "   'IataCode': 'LGA',\n",
    "   'Name': 'New York LaGuardia',\n",
    "   'Type': 'Station',\n",
    "   'SkyscannerCode': 'LGA',\n",
    "   'CityName': 'New York',\n",
    "   'CityId': 'NYCA',\n",
    "   'CountryName': 'United States'},\n",
    "  {'PlaceId': 81727,\n",
    "   'IataCode': 'SFO',\n",
    "   'Name': 'San Francisco International',\n",
    "   'Type': 'Station',\n",
    "   'SkyscannerCode': 'SFO',\n",
    "   'CityName': 'San Francisco',\n",
    "   'CityId': 'SFOA',\n",
    "   'CountryName': 'United States'}],\n",
    " 'Carriers': [{'CarrierId': 819, 'Name': 'Aegean Airlines'},\n",
    "  {'CarrierId': 851, 'Name': 'Alaska Airlines'},\n",
    "  {'CarrierId': 870, 'Name': 'jetBlue'},\n",
    "  {'CarrierId': 1065, 'Name': 'Frontier Airlines'},\n",
    "  {'CarrierId': 1721, 'Name': 'Sun Country Airlines'},\n",
    "  {'CarrierId': 1793, 'Name': 'United'},\n",
    "  {'CarrierId': 1902, 'Name': 'Southwest Airlines'}],\n",
    " 'Currencies': [{'Code': 'USD',\n",
    "   'Symbol': '$',\n",
    "   'ThousandsSeparator': ',',\n",
    "   'DecimalSeparator': '.',\n",
    "   'SymbolOnLeft': True,\n",
    "   'SpaceBetweenAmountAndSymbol': False,\n",
    "   'RoundingCoefficient': 0,\n",
    "   'DecimalDigits': 2}]}"
   ]
  },
  {
   "cell_type": "code",
   "execution_count": 97,
   "id": "feb6b67b",
   "metadata": {},
   "outputs": [
    {
     "data": {
      "text/plain": [
       "{'Quotes': [{'QuoteId': 1,\n",
       "   'MinPrice': 92.0,\n",
       "   'Direct': False,\n",
       "   'OutboundLeg': {'CarrierIds': [1065],\n",
       "    'OriginId': 81727,\n",
       "    'DestinationId': 50290,\n",
       "    'DepartureDate': '2020-12-12T00:00:00'},\n",
       "   'QuoteDateTime': '2020-09-21T10:49:00'},\n",
       "  {'QuoteId': 2,\n",
       "   'MinPrice': 133.0,\n",
       "   'Direct': True,\n",
       "   'OutboundLeg': {'CarrierIds': [851],\n",
       "    'OriginId': 81727,\n",
       "    'DestinationId': 50290,\n",
       "    'DepartureDate': '2020-12-12T00:00:00'},\n",
       "   'QuoteDateTime': '2020-09-21T10:49:00'}],\n",
       " 'Places': [{'PlaceId': 50290,\n",
       "   'IataCode': 'EWR',\n",
       "   'Name': 'New York Newark',\n",
       "   'Type': 'Station',\n",
       "   'SkyscannerCode': 'EWR',\n",
       "   'CityName': 'New York',\n",
       "   'CityId': 'NYCA',\n",
       "   'CountryName': 'United States'},\n",
       "  {'PlaceId': 60987,\n",
       "   'IataCode': 'JFK',\n",
       "   'Name': 'New York John F. Kennedy',\n",
       "   'Type': 'Station',\n",
       "   'SkyscannerCode': 'JFK',\n",
       "   'CityName': 'New York',\n",
       "   'CityId': 'NYCA',\n",
       "   'CountryName': 'United States'},\n",
       "  {'PlaceId': 65633,\n",
       "   'IataCode': 'LGA',\n",
       "   'Name': 'New York LaGuardia',\n",
       "   'Type': 'Station',\n",
       "   'SkyscannerCode': 'LGA',\n",
       "   'CityName': 'New York',\n",
       "   'CityId': 'NYCA',\n",
       "   'CountryName': 'United States'},\n",
       "  {'PlaceId': 81727,\n",
       "   'IataCode': 'SFO',\n",
       "   'Name': 'San Francisco International',\n",
       "   'Type': 'Station',\n",
       "   'SkyscannerCode': 'SFO',\n",
       "   'CityName': 'San Francisco',\n",
       "   'CityId': 'SFOA',\n",
       "   'CountryName': 'United States'}],\n",
       " 'Carriers': [{'CarrierId': 819, 'Name': 'Aegean Airlines'},\n",
       "  {'CarrierId': 851, 'Name': 'Alaska Airlines'},\n",
       "  {'CarrierId': 870, 'Name': 'jetBlue'},\n",
       "  {'CarrierId': 1065, 'Name': 'Frontier Airlines'},\n",
       "  {'CarrierId': 1721, 'Name': 'Sun Country Airlines'},\n",
       "  {'CarrierId': 1793, 'Name': 'United'},\n",
       "  {'CarrierId': 1902, 'Name': 'Southwest Airlines'}],\n",
       " 'Currencies': [{'Code': 'USD',\n",
       "   'Symbol': '$',\n",
       "   'ThousandsSeparator': ',',\n",
       "   'DecimalSeparator': '.',\n",
       "   'SymbolOnLeft': True,\n",
       "   'SpaceBetweenAmountAndSymbol': False,\n",
       "   'RoundingCoefficient': 0,\n",
       "   'DecimalDigits': 2}]}"
      ]
     },
     "execution_count": 97,
     "metadata": {},
     "output_type": "execute_result"
    }
   ],
   "source": [
    "data"
   ]
  },
  {
   "cell_type": "code",
   "execution_count": 98,
   "id": "4ed8f5b7",
   "metadata": {},
   "outputs": [
    {
     "data": {
      "text/plain": [
       "dict_keys(['Quotes', 'Places', 'Carriers', 'Currencies'])"
      ]
     },
     "execution_count": 98,
     "metadata": {},
     "output_type": "execute_result"
    }
   ],
   "source": [
    "data.keys()"
   ]
  },
  {
   "cell_type": "code",
   "execution_count": 99,
   "id": "d7513194",
   "metadata": {},
   "outputs": [
    {
     "data": {
      "text/plain": [
       "[{'QuoteId': 1,\n",
       "  'MinPrice': 92.0,\n",
       "  'Direct': False,\n",
       "  'OutboundLeg': {'CarrierIds': [1065],\n",
       "   'OriginId': 81727,\n",
       "   'DestinationId': 50290,\n",
       "   'DepartureDate': '2020-12-12T00:00:00'},\n",
       "  'QuoteDateTime': '2020-09-21T10:49:00'},\n",
       " {'QuoteId': 2,\n",
       "  'MinPrice': 133.0,\n",
       "  'Direct': True,\n",
       "  'OutboundLeg': {'CarrierIds': [851],\n",
       "   'OriginId': 81727,\n",
       "   'DestinationId': 50290,\n",
       "   'DepartureDate': '2020-12-12T00:00:00'},\n",
       "  'QuoteDateTime': '2020-09-21T10:49:00'}]"
      ]
     },
     "execution_count": 99,
     "metadata": {},
     "output_type": "execute_result"
    }
   ],
   "source": [
    "quotes = data['Quotes']\n",
    "quotes"
   ]
  },
  {
   "cell_type": "code",
   "execution_count": 100,
   "id": "9880bc21",
   "metadata": {},
   "outputs": [
    {
     "data": {
      "text/plain": [
       "[{'PlaceId': 50290,\n",
       "  'IataCode': 'EWR',\n",
       "  'Name': 'New York Newark',\n",
       "  'Type': 'Station',\n",
       "  'SkyscannerCode': 'EWR',\n",
       "  'CityName': 'New York',\n",
       "  'CityId': 'NYCA',\n",
       "  'CountryName': 'United States'},\n",
       " {'PlaceId': 60987,\n",
       "  'IataCode': 'JFK',\n",
       "  'Name': 'New York John F. Kennedy',\n",
       "  'Type': 'Station',\n",
       "  'SkyscannerCode': 'JFK',\n",
       "  'CityName': 'New York',\n",
       "  'CityId': 'NYCA',\n",
       "  'CountryName': 'United States'},\n",
       " {'PlaceId': 65633,\n",
       "  'IataCode': 'LGA',\n",
       "  'Name': 'New York LaGuardia',\n",
       "  'Type': 'Station',\n",
       "  'SkyscannerCode': 'LGA',\n",
       "  'CityName': 'New York',\n",
       "  'CityId': 'NYCA',\n",
       "  'CountryName': 'United States'},\n",
       " {'PlaceId': 81727,\n",
       "  'IataCode': 'SFO',\n",
       "  'Name': 'San Francisco International',\n",
       "  'Type': 'Station',\n",
       "  'SkyscannerCode': 'SFO',\n",
       "  'CityName': 'San Francisco',\n",
       "  'CityId': 'SFOA',\n",
       "  'CountryName': 'United States'}]"
      ]
     },
     "execution_count": 100,
     "metadata": {},
     "output_type": "execute_result"
    }
   ],
   "source": [
    "places = data['Places']\n",
    "places"
   ]
  },
  {
   "cell_type": "code",
   "execution_count": 101,
   "id": "b30496bf",
   "metadata": {},
   "outputs": [
    {
     "data": {
      "text/plain": [
       "[{'CarrierId': 819, 'Name': 'Aegean Airlines'},\n",
       " {'CarrierId': 851, 'Name': 'Alaska Airlines'},\n",
       " {'CarrierId': 870, 'Name': 'jetBlue'},\n",
       " {'CarrierId': 1065, 'Name': 'Frontier Airlines'},\n",
       " {'CarrierId': 1721, 'Name': 'Sun Country Airlines'},\n",
       " {'CarrierId': 1793, 'Name': 'United'},\n",
       " {'CarrierId': 1902, 'Name': 'Southwest Airlines'}]"
      ]
     },
     "execution_count": 101,
     "metadata": {},
     "output_type": "execute_result"
    }
   ],
   "source": [
    "carriers = data ['Carriers']\n",
    "carriers"
   ]
  },
  {
   "cell_type": "code",
   "execution_count": 102,
   "id": "9a155b97",
   "metadata": {},
   "outputs": [
    {
     "data": {
      "text/plain": [
       "[{'Code': 'USD',\n",
       "  'Symbol': '$',\n",
       "  'ThousandsSeparator': ',',\n",
       "  'DecimalSeparator': '.',\n",
       "  'SymbolOnLeft': True,\n",
       "  'SpaceBetweenAmountAndSymbol': False,\n",
       "  'RoundingCoefficient': 0,\n",
       "  'DecimalDigits': 2}]"
      ]
     },
     "execution_count": 102,
     "metadata": {},
     "output_type": "execute_result"
    }
   ],
   "source": [
    "currencies = data ['Currencies']\n",
    "currencies"
   ]
  },
  {
   "cell_type": "code",
   "execution_count": 107,
   "id": "40c8f404",
   "metadata": {},
   "outputs": [
    {
     "data": {
      "text/html": [
       "<div>\n",
       "<style scoped>\n",
       "    .dataframe tbody tr th:only-of-type {\n",
       "        vertical-align: middle;\n",
       "    }\n",
       "\n",
       "    .dataframe tbody tr th {\n",
       "        vertical-align: top;\n",
       "    }\n",
       "\n",
       "    .dataframe thead th {\n",
       "        text-align: right;\n",
       "    }\n",
       "</style>\n",
       "<table border=\"1\" class=\"dataframe\">\n",
       "  <thead>\n",
       "    <tr style=\"text-align: right;\">\n",
       "      <th></th>\n",
       "      <th>Price</th>\n",
       "      <th>Origin</th>\n",
       "      <th>Arrival</th>\n",
       "      <th>Company</th>\n",
       "    </tr>\n",
       "  </thead>\n",
       "  <tbody>\n",
       "    <tr>\n",
       "      <th>0</th>\n",
       "      <td>92.0</td>\n",
       "      <td>San Francisco International</td>\n",
       "      <td>New York Newark</td>\n",
       "      <td>Frontier Airlines</td>\n",
       "    </tr>\n",
       "    <tr>\n",
       "      <th>1</th>\n",
       "      <td>133.0</td>\n",
       "      <td>San Francisco International</td>\n",
       "      <td>New York Newark</td>\n",
       "      <td>Alaska Airlines</td>\n",
       "    </tr>\n",
       "  </tbody>\n",
       "</table>\n",
       "</div>"
      ],
      "text/plain": [
       "   Price                       Origin          Arrival            Company\n",
       "0   92.0  San Francisco International  New York Newark  Frontier Airlines\n",
       "1  133.0  San Francisco International  New York Newark    Alaska Airlines"
      ]
     },
     "execution_count": 107,
     "metadata": {},
     "output_type": "execute_result"
    }
   ],
   "source": [
    "def get_flights():\n",
    "    \n",
    "    flights = []\n",
    "    \n",
    "    for flight in range(2):\n",
    "        price = data[\"Quotes\"][flight][\"MinPrice\"]\n",
    "\n",
    "    \n",
    "        origin = data[\"Quotes\"][flight]['OutboundLeg'][\"OriginId\"]\n",
    "        for place in data[\"Places\"]:\n",
    "            if place[\"PlaceId\"] == origin:\n",
    "                origin = place[\"Name\"]\n",
    "\n",
    "     \n",
    "        destination = data[\"Quotes\"][flight]['OutboundLeg'][\"DestinationId\"]\n",
    "        for place in data[\"Places\"]:\n",
    "            if place[\"PlaceId\"] == destination:\n",
    "                destination = place[\"Name\"]\n",
    "\n",
    "        carriers = data[\"Quotes\"][flight][\"OutboundLeg\"][\"CarrierIds\"][0]\n",
    "\n",
    "        for company in data[\"Carriers\"]:\n",
    "            if company [\"CarrierId\"] == carriers:\n",
    "                carriers = company [\"Name\"]\n",
    "\n",
    "        info = {\"Price\" : price,\n",
    "               \"Origin\" : origin,\n",
    "               \"Arrival\" : destination, \n",
    "               \"Company\" : carriers}\n",
    "        \n",
    "        flights.append(info)\n",
    "        \n",
    "    return pd.DataFrame(flights)\n",
    "get_flights()"
   ]
  }
 ],
 "metadata": {
  "kernelspec": {
   "display_name": "Python 3 (ipykernel)",
   "language": "python",
   "name": "python3"
  },
  "language_info": {
   "codemirror_mode": {
    "name": "ipython",
    "version": 3
   },
   "file_extension": ".py",
   "mimetype": "text/x-python",
   "name": "python",
   "nbconvert_exporter": "python",
   "pygments_lexer": "ipython3",
   "version": "3.11.5"
  }
 },
 "nbformat": 4,
 "nbformat_minor": 5
}
