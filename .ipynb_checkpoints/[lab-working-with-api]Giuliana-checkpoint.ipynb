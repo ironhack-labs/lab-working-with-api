{
 "cells": [
  {
   "cell_type": "markdown",
   "id": "91681086-d8d3-4817-88c2-5b835fc325b5",
   "metadata": {},
   "source": [
    "Following the class example, create a function that returns the price, names of origin and arrival airports and the name of the company. Do it for all the flights between two dates that cost the same."
   ]
  },
  {
   "cell_type": "code",
   "execution_count": 118,
   "id": "e1d856d8-8ec2-4ec3-ba11-f8ea8d72b413",
   "metadata": {},
   "outputs": [],
   "source": [
    "import pandas as pd"
   ]
  },
  {
   "cell_type": "code",
   "execution_count": 1,
   "id": "7a6c33b2-8f57-4730-b9f2-7a8e51511205",
   "metadata": {},
   "outputs": [],
   "source": [
    "data = {'Quotes': [{'QuoteId': 1,\n",
    "   'MinPrice': 92.0,\n",
    "   'Direct': False,\n",
    "   'OutboundLeg': {'CarrierIds': [1065],\n",
    "    'OriginId': 81727,\n",
    "    'DestinationId': 50290,\n",
    "    'DepartureDate': '2020-12-12T00:00:00'},\n",
    "   'QuoteDateTime': '2020-09-21T10:49:00'},\n",
    "  {'QuoteId': 2,\n",
    "   'MinPrice': 133.0,\n",
    "   'Direct': True,\n",
    "   'OutboundLeg': {'CarrierIds': [851],\n",
    "    'OriginId': 81727,\n",
    "    'DestinationId': 50290,\n",
    "    'DepartureDate': '2020-12-12T00:00:00'},\n",
    "   'QuoteDateTime': '2020-09-21T10:49:00'}],\n",
    " 'Places': [{'PlaceId': 50290,\n",
    "   'IataCode': 'EWR',\n",
    "   'Name': 'New York Newark',\n",
    "   'Type': 'Station',\n",
    "   'SkyscannerCode': 'EWR',\n",
    "   'CityName': 'New York',\n",
    "   'CityId': 'NYCA',\n",
    "   'CountryName': 'United States'},\n",
    "  {'PlaceId': 60987,\n",
    "   'IataCode': 'JFK',\n",
    "   'Name': 'New York John F. Kennedy',\n",
    "   'Type': 'Station',\n",
    "   'SkyscannerCode': 'JFK',\n",
    "   'CityName': 'New York',\n",
    "   'CityId': 'NYCA',\n",
    "   'CountryName': 'United States'},\n",
    "  {'PlaceId': 65633,\n",
    "   'IataCode': 'LGA',\n",
    "   'Name': 'New York LaGuardia',\n",
    "   'Type': 'Station',\n",
    "   'SkyscannerCode': 'LGA',\n",
    "   'CityName': 'New York',\n",
    "   'CityId': 'NYCA',\n",
    "   'CountryName': 'United States'},\n",
    "  {'PlaceId': 81727,\n",
    "   'IataCode': 'SFO',\n",
    "   'Name': 'San Francisco International',\n",
    "   'Type': 'Station',\n",
    "   'SkyscannerCode': 'SFO',\n",
    "   'CityName': 'San Francisco',\n",
    "   'CityId': 'SFOA',\n",
    "   'CountryName': 'United States'}],\n",
    " 'Carriers': [{'CarrierId': 819, 'Name': 'Aegean Airlines'},\n",
    "  {'CarrierId': 851, 'Name': 'Alaska Airlines'},\n",
    "  {'CarrierId': 870, 'Name': 'jetBlue'},\n",
    "  {'CarrierId': 1065, 'Name': 'Frontier Airlines'},\n",
    "  {'CarrierId': 1721, 'Name': 'Sun Country Airlines'},\n",
    "  {'CarrierId': 1793, 'Name': 'United'},\n",
    "  {'CarrierId': 1902, 'Name': 'Southwest Airlines'}],\n",
    " 'Currencies': [{'Code': 'USD',\n",
    "   'Symbol': '$',\n",
    "   'ThousandsSeparator': ',',\n",
    "   'DecimalSeparator': '.',\n",
    "   'SymbolOnLeft': True,\n",
    "   'SpaceBetweenAmountAndSymbol': False,\n",
    "   'RoundingCoefficient': 0,\n",
    "   'DecimalDigits': 2}]}"
   ]
  },
  {
   "cell_type": "code",
   "execution_count": 120,
   "id": "04bd35a2-55b4-4aa5-bbc1-4a7fedb85284",
   "metadata": {},
   "outputs": [
    {
     "data": {
      "text/plain": [
       "[{'flight_id': 1,\n",
       "  'MinPrice': 92.0,\n",
       "  'Origin': 'San Francisco International',\n",
       "  'Arrival': 'New York Newark',\n",
       "  'Carrier': 'Frontier Airlines'},\n",
       " {'flight_id': 2,\n",
       "  'MinPrice': 133.0,\n",
       "  'Origin': 'San Francisco International',\n",
       "  'Arrival': 'New York Newark',\n",
       "  'Carrier': 'Alaska Airlines'}]"
      ]
     },
     "execution_count": 120,
     "metadata": {},
     "output_type": "execute_result"
    }
   ],
   "source": [
    "def flight_info(data):\n",
    "    flights = [] \n",
    "    carrier_name = []\n",
    "  \n",
    "    \n",
    "    for flight in data['Quotes']:\n",
    "        flight_id = flight['QuoteId']\n",
    "        price = flight['MinPrice'] \n",
    "        OriginId = flight['OutboundLeg']['OriginId']\n",
    "        DestinationId = flight['OutboundLeg']['DestinationId']\n",
    "        Carrier_id = flight['OutboundLeg']['CarrierIds'][0]\n",
    "\n",
    "        for place in data['Places']:\n",
    "            if  OriginId == place['PlaceId']:\n",
    "                origin_name = place['Name']\n",
    "                break\n",
    "\n",
    "        for b in data['Places']:\n",
    "             if DestinationId == b['PlaceId']:\n",
    "                destination_name = b['Name']\n",
    "\n",
    "        for carrier in data['Carriers']:\n",
    "            \n",
    "            if Carrier_id == carrier['CarrierId']:\n",
    "                carrier_name = carrier['Name']\n",
    "            \n",
    "        details = {\n",
    "            \"flight_id\": flight_id,\n",
    "            \"MinPrice\": price,\n",
    "            \"Origin\": origin_name,\n",
    "            \"Arrival\": destination_name,\n",
    "            \"Carrier\": carrier_name\n",
    "         \n",
    "        }\n",
    "        \n",
    "        flights.append(details)\n",
    "    \n",
    "    return flights\n",
    "\n",
    "        \n",
    "flight_info(data)"
   ]
  },
  {
   "cell_type": "code",
   "execution_count": null,
   "id": "13c041b9-cc93-4f7e-b95a-c5c979c9557d",
   "metadata": {},
   "outputs": [],
   "source": []
  },
  {
   "cell_type": "code",
   "execution_count": null,
   "id": "89b2c62d-4442-4f58-97b9-6d619559f012",
   "metadata": {},
   "outputs": [],
   "source": []
  },
  {
   "cell_type": "code",
   "execution_count": null,
   "id": "2ff37b0d-f310-4995-8f71-a97b0ad0369c",
   "metadata": {},
   "outputs": [],
   "source": []
  }
 ],
 "metadata": {
  "kernelspec": {
   "display_name": "Python 3 (ipykernel)",
   "language": "python",
   "name": "python3"
  },
  "language_info": {
   "codemirror_mode": {
    "name": "ipython",
    "version": 3
   },
   "file_extension": ".py",
   "mimetype": "text/x-python",
   "name": "python",
   "nbconvert_exporter": "python",
   "pygments_lexer": "ipython3",
   "version": "3.11.7"
  }
 },
 "nbformat": 4,
 "nbformat_minor": 5
}
