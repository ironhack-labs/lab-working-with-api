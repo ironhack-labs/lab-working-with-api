{
 "cells": [
  {
   "cell_type": "markdown",
   "id": "ae78d961",
   "metadata": {},
   "source": [
    "Following the class example, create a function that returns the price, names of origin and arrival airports and the name of the company. Do it for all the flights between two dates that cost the same."
   ]
  },
  {
   "cell_type": "code",
   "execution_count": 1,
   "id": "1d5962b9",
   "metadata": {},
   "outputs": [],
   "source": [
    "data = {'Quotes': [{'QuoteId': 1,\n",
    "                   'MinPrice': 92.0,\n",
    "                   'Direct': False,\n",
    "                    'OutboundLeg': {'CarrierIds': [1065],\n",
    "                                    'OriginId': 81727,\n",
    "                                    'DestinationId': 50290,\n",
    "                                    'DepartureDate': '2020-12-12T00:00:00'},\n",
    "                                    'QuoteDateTime': '2020-09-21T10:49:00'},\n",
    "                    {'QuoteId': 2,\n",
    "                    'MinPrice': 133.0,\n",
    "                    'Direct': True,\n",
    "                    'OutboundLeg': {'CarrierIds': [851],\n",
    "                                    'OriginId': 81727,\n",
    "                                    'DestinationId': 50290,\n",
    "                                    'DepartureDate': '2020-12-12T00:00:00'},\n",
    "                                    'QuoteDateTime': '2020-09-21T10:49:00'}],\n",
    "         'Places': [{'PlaceId': 50290,\n",
    "                    'IataCode': 'EWR',\n",
    "                    'Name': 'New York Newark',\n",
    "                    'Type': 'Station',\n",
    "                    'SkyscannerCode': 'EWR',\n",
    "                    'CityName': 'New York',\n",
    "                    'CityId': 'NYCA',\n",
    "                    'CountryName': 'United States'},\n",
    "                  \n",
    "                    {'PlaceId': 60987,\n",
    "                    'IataCode': 'JFK',\n",
    "                    'Name': 'New York John F. Kennedy',\n",
    "                    'Type': 'Station',\n",
    "                    'SkyscannerCode': 'JFK',\n",
    "                    'CityName': 'New York',\n",
    "                    'CityId': 'NYCA',\n",
    "                    'CountryName': 'United States'},\n",
    "                    \n",
    "                    {'PlaceId': 65633,\n",
    "                    'IataCode': 'LGA',\n",
    "                    'Name': 'New York LaGuardia',\n",
    "                    'Type': 'Station',\n",
    "                    'SkyscannerCode': 'LGA',\n",
    "                    'CityName': 'New York',\n",
    "                    'CityId': 'NYCA',\n",
    "                    'CountryName': 'United States'},\n",
    "  \n",
    "                    {'PlaceId': 81727,\n",
    "                    'IataCode': 'SFO',\n",
    "                    'Name': 'San Francisco International',\n",
    "                    'Type': 'Station',\n",
    "                    'SkyscannerCode': 'SFO',\n",
    "                    'CityName': 'San Francisco',\n",
    "                    'CityId': 'SFOA',\n",
    "                    'CountryName': 'United States'}],\n",
    "        \n",
    "         'Carriers': [{'CarrierId': 819, 'Name': 'Aegean Airlines'},\n",
    "                      {'CarrierId': 851, 'Name': 'Alaska Airlines'},\n",
    "                      {'CarrierId': 870, 'Name': 'jetBlue'},\n",
    "                      {'CarrierId': 1065, 'Name': 'Frontier Airlines'},\n",
    "                      {'CarrierId': 1721, 'Name': 'Sun Country Airlines'},\n",
    "                      {'CarrierId': 1793, 'Name': 'United'},\n",
    "                      {'CarrierId': 1902, 'Name': 'Southwest Airlines'}],\n",
    "         'Currencies': [{'Code': 'USD',\n",
    "                        'Symbol': '$',\n",
    "                       'ThousandsSeparator': ',',\n",
    "                       'DecimalSeparator': '.',\n",
    "                       'SymbolOnLeft': True,\n",
    "                       'SpaceBetweenAmountAndSymbol': False,\n",
    "                        'RoundingCoefficient': 0,\n",
    "                        'DecimalDigits': 2}]}\n"
   ]
  },
  {
   "cell_type": "code",
   "execution_count": 2,
   "id": "ade6e47c",
   "metadata": {},
   "outputs": [
    {
     "data": {
      "text/plain": [
       "dict_keys(['Quotes', 'Places', 'Carriers', 'Currencies'])"
      ]
     },
     "execution_count": 2,
     "metadata": {},
     "output_type": "execute_result"
    }
   ],
   "source": [
    "data.keys()"
   ]
  },
  {
   "cell_type": "code",
   "execution_count": 21,
   "id": "8069bdd9",
   "metadata": {},
   "outputs": [
    {
     "data": {
      "text/plain": [
       "[{'QuoteId': 1,\n",
       "  'MinPrice': 92.0,\n",
       "  'Direct': False,\n",
       "  'OutboundLeg': {'CarrierIds': [1065],\n",
       "   'OriginId': 81727,\n",
       "   'DestinationId': 50290,\n",
       "   'DepartureDate': '2020-12-12T00:00:00'},\n",
       "  'QuoteDateTime': '2020-09-21T10:49:00'},\n",
       " {'QuoteId': 2,\n",
       "  'MinPrice': 133.0,\n",
       "  'Direct': True,\n",
       "  'OutboundLeg': {'CarrierIds': [851],\n",
       "   'OriginId': 81727,\n",
       "   'DestinationId': 50290,\n",
       "   'DepartureDate': '2020-12-12T00:00:00'},\n",
       "  'QuoteDateTime': '2020-09-21T10:49:00'}]"
      ]
     },
     "execution_count": 21,
     "metadata": {},
     "output_type": "execute_result"
    }
   ],
   "source": [
    "quotes = data['Quotes']\n",
    "quotes"
   ]
  },
  {
   "cell_type": "code",
   "execution_count": 19,
   "id": "d283e0e7",
   "metadata": {},
   "outputs": [
    {
     "data": {
      "text/html": [
       "<div>\n",
       "<style scoped>\n",
       "    .dataframe tbody tr th:only-of-type {\n",
       "        vertical-align: middle;\n",
       "    }\n",
       "\n",
       "    .dataframe tbody tr th {\n",
       "        vertical-align: top;\n",
       "    }\n",
       "\n",
       "    .dataframe thead th {\n",
       "        text-align: right;\n",
       "    }\n",
       "</style>\n",
       "<table border=\"1\" class=\"dataframe\">\n",
       "  <thead>\n",
       "    <tr style=\"text-align: right;\">\n",
       "      <th></th>\n",
       "      <th>QuoteId</th>\n",
       "      <th>MinPrice</th>\n",
       "      <th>Origin</th>\n",
       "      <th>Destination</th>\n",
       "      <th>Carrier</th>\n",
       "    </tr>\n",
       "  </thead>\n",
       "  <tbody>\n",
       "    <tr>\n",
       "      <th>0</th>\n",
       "      <td>1</td>\n",
       "      <td>92.0</td>\n",
       "      <td>San Francisco International</td>\n",
       "      <td>New York Newark</td>\n",
       "      <td>Frontier Airlines</td>\n",
       "    </tr>\n",
       "    <tr>\n",
       "      <th>1</th>\n",
       "      <td>2</td>\n",
       "      <td>133.0</td>\n",
       "      <td>San Francisco International</td>\n",
       "      <td>New York Newark</td>\n",
       "      <td>Alaska Airlines</td>\n",
       "    </tr>\n",
       "  </tbody>\n",
       "</table>\n",
       "</div>"
      ],
      "text/plain": [
       "   QuoteId  MinPrice                       Origin      Destination  \\\n",
       "0        1      92.0  San Francisco International  New York Newark   \n",
       "1        2     133.0  San Francisco International  New York Newark   \n",
       "\n",
       "             Carrier  \n",
       "0  Frontier Airlines  \n",
       "1    Alaska Airlines  "
      ]
     },
     "execution_count": 19,
     "metadata": {},
     "output_type": "execute_result"
    }
   ],
   "source": [
    "import pandas as pd\n",
    "\n",
    "def flight_dataframe(data):\n",
    "    quotes = data['Quotes']\n",
    "    places = {place['PlaceId']: place['Name'] for place in data['Places']}\n",
    "    carriers = {carrier['CarrierId']: carrier['Name'] for carrier in data['Carriers']}\n",
    "    currency = data['Currencies'][0]['Code']\n",
    "\n",
    "    flight_data = []\n",
    "    for quote in quotes:\n",
    "        quote_id = quote['QuoteId']\n",
    "        min_price = quote['MinPrice']\n",
    "        direct = quote['Direct']\n",
    "        origin_id = quote['OutboundLeg']['OriginId']\n",
    "        destination_id = quote['OutboundLeg']['DestinationId']\n",
    "        departure_date = quote['OutboundLeg']['DepartureDate']\n",
    "        carrier_id = quote['OutboundLeg']['CarrierIds'][0]\n",
    "\n",
    "        origin_name = places.get(origin_id, '')\n",
    "        destination_name = places.get(destination_id, '')\n",
    "        carrier_name = carriers.get(carrier_id, '')\n",
    "\n",
    "        flight_data.append({\n",
    "            'QuoteId': quote_id,\n",
    "            'MinPrice': min_price,\n",
    "            'Origin': origin_name,\n",
    "            'Destination': destination_name,\n",
    "            'Carrier': carrier_name,\n",
    "            \n",
    "        })\n",
    "\n",
    "    flight_df = pd.DataFrame(flight_data)\n",
    "    return flight_df\n",
    "\n",
    "flight_dataframe = create_flight_dataframe(data)\n",
    "flight_dataframe"
   ]
  }
 ],
 "metadata": {
  "kernelspec": {
   "display_name": "Python 3 (ipykernel)",
   "language": "python",
   "name": "python3"
  },
  "language_info": {
   "codemirror_mode": {
    "name": "ipython",
    "version": 3
   },
   "file_extension": ".py",
   "mimetype": "text/x-python",
   "name": "python",
   "nbconvert_exporter": "python",
   "pygments_lexer": "ipython3",
   "version": "3.9.7"
  }
 },
 "nbformat": 4,
 "nbformat_minor": 5
}
