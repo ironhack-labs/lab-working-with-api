{
 "cells": [
  {
   "cell_type": "markdown",
   "id": "52b24f7e",
   "metadata": {},
   "source": [
    "\n",
    "# Lab | Working with APIs\n",
    "\n",
    "#### Instructions \n",
    "\n",
    "Following the class example, create a function that returns the price, names of origin and arrival airports and the name of the company. Do it for all the flights between two dates that cost the same."
   ]
  },
  {
   "cell_type": "code",
   "execution_count": 66,
   "id": "064857de",
   "metadata": {},
   "outputs": [],
   "source": [
    "flight_data = {\n",
    "    'Quotes': [\n",
    "        {\n",
    "            'QuoteId': 1,\n",
    "            'MinPrice': 92.0,\n",
    "            'Direct': False,\n",
    "            'OutboundLeg': {\n",
    "                'CarrierIds': [1065],\n",
    "                'OriginId': 81727,\n",
    "                'DestinationId': 50290,\n",
    "                'DepartureDate': '2020-12-12T00:00:00'\n",
    "            },\n",
    "            'QuoteDateTime': '2020-09-21T10:49:00'\n",
    "        },\n",
    "        {\n",
    "            'QuoteId': 2,\n",
    "            'MinPrice': 133.0,\n",
    "            'Direct': True,\n",
    "            'OutboundLeg': {\n",
    "                'CarrierIds': [851],\n",
    "                'OriginId': 81727,\n",
    "                'DestinationId': 50290,\n",
    "                'DepartureDate': '2020-12-12T00:00:00'\n",
    "            },\n",
    "            'QuoteDateTime': '2020-09-21T10:49:00'\n",
    "        },\n",
    "        {\n",
    "            'QuoteId': 3,\n",
    "            'MinPrice': 150.0,\n",
    "            'Direct': True,\n",
    "            'OutboundLeg': {\n",
    "                'CarrierIds': [1902],\n",
    "                'OriginId': 81727,\n",
    "                'DestinationId': 60987,\n",
    "                'DepartureDate': '2020-12-13T00:00:00'\n",
    "            },\n",
    "            'QuoteDateTime': '2020-09-22T10:49:00'\n",
    "        }\n",
    "    ],\n",
    "    'Places': [\n",
    "        {\n",
    "            'PlaceId': 50290,\n",
    "            'IataCode': 'EWR',\n",
    "            'Name': 'New York Newark',\n",
    "            'Type': 'Station',\n",
    "            'SkyscannerCode': 'EWR',\n",
    "            'CityName': 'New York',\n",
    "            'CityId': 'NYCA',\n",
    "            'CountryName': 'United States'\n",
    "        },\n",
    "        {\n",
    "            'PlaceId': 60987,\n",
    "            'IataCode': 'JFK',\n",
    "            'Name': 'New York John F. Kennedy',\n",
    "            'Type': 'Station',\n",
    "            'SkyscannerCode': 'JFK',\n",
    "            'CityName': 'New York',\n",
    "            'CityId': 'NYCA',\n",
    "            'CountryName': 'United States'\n",
    "        },\n",
    "        {\n",
    "            'PlaceId': 65633,\n",
    "            'IataCode': 'LGA',\n",
    "            'Name': 'New York LaGuardia',\n",
    "            'Type': 'Station',\n",
    "            'SkyscannerCode': 'LGA',\n",
    "            'CityName': 'New York',\n",
    "            'CityId': 'NYCA',\n",
    "            'CountryName': 'United States'\n",
    "        },\n",
    "        {\n",
    "            'PlaceId': 81727,\n",
    "            'IataCode': 'SFO',\n",
    "            'Name': 'San Francisco International',\n",
    "            'Type': 'Station',\n",
    "            'SkyscannerCode': 'SFO',\n",
    "            'CityName': 'San Francisco',\n",
    "            'CityId': 'SFOA',\n",
    "            'CountryName': 'United States'\n",
    "        }\n",
    "    ],\n",
    "    'Carriers': [\n",
    "        {\n",
    "            'CarrierId': 819,\n",
    "            'Name': 'Aegean Airlines'\n",
    "        },\n",
    "        {\n",
    "            'CarrierId': 851,\n",
    "            'Name': 'Alaska Airlines'\n",
    "        },\n",
    "        {\n",
    "            'CarrierId': 870,\n",
    "            'Name': 'jetBlue'\n",
    "        },\n",
    "        {\n",
    "            'CarrierId': 1065,\n",
    "            'Name': 'Frontier Airlines'\n",
    "        },\n",
    "        {\n",
    "            'CarrierId': 1721,\n",
    "            'Name': 'Sun Country Airlines'\n",
    "        },\n",
    "        {\n",
    "            'CarrierId': 1793,\n",
    "            'Name': 'United'\n",
    "        },\n",
    "        {\n",
    "            'CarrierId': 1902,\n",
    "            'Name': 'Southwest Airlines'\n",
    "        }\n",
    "    ],\n",
    "    'Currencies': [\n",
    "        {\n",
    "            'Code': 'USD',\n",
    "            'Symbol': '$',\n",
    "            'ThousandsSeparator': ',',\n",
    "            'DecimalSeparator': '.',\n",
    "            'SymbolOnLeft': True,\n",
    "            'SpaceBetweenAmountAndSymbol': False,\n",
    "            'RoundingCoefficient': 0,\n",
    "            'DecimalDigits': 2\n",
    "        }\n",
    "    ]\n",
    "}\n"
   ]
  },
  {
   "cell_type": "code",
   "execution_count": 99,
   "id": "8a22b2f9",
   "metadata": {},
   "outputs": [
    {
     "data": {
      "text/plain": [
       "[(1, '2020-12-12T00:00:00'),\n",
       " (2, '2020-12-12T00:00:00'),\n",
       " (3, '2020-12-13T00:00:00'),\n",
       " (4, '2020-12-14T00:00:00')]"
      ]
     },
     "execution_count": 99,
     "metadata": {},
     "output_type": "execute_result"
    }
   ],
   "source": [
    "# Make a dummie 4th flight\n",
    "\n",
    "new_flight = {\n",
    "    'QuoteId': 4,  # New QuoteId\n",
    "    'MinPrice': 92.0,  # Same cost as QuoteId 1\n",
    "    'Direct': False,  # Copying the Direct status\n",
    "    'OutboundLeg': {\n",
    "        'CarrierIds': [1065],  # Assuming the same carrier for simplicity\n",
    "        'OriginId': 81727,  # Same origin as QuoteId 1\n",
    "        'DestinationId': 50290,  # Same destination as QuoteId 1\n",
    "        'DepartureDate': '2020-12-14T00:00:00'  # New departure date\n",
    "    },\n",
    "    'QuoteDateTime': '2020-09-23T10:49:00'  # New quote date and time\n",
    "}\n",
    "\n",
    "# Adding the new flight to the Quotes list\n",
    "flight_data['Quotes'].append(new_flight)\n"
   ]
  },
  {
   "cell_type": "code",
   "execution_count": 100,
   "id": "ca1e431c",
   "metadata": {},
   "outputs": [
    {
     "data": {
      "text/plain": [
       "dict_keys(['Quotes', 'Places', 'Carriers', 'Currencies'])"
      ]
     },
     "execution_count": 100,
     "metadata": {},
     "output_type": "execute_result"
    }
   ],
   "source": [
    "flight_data.keys() # ['Quotes', 'Places', 'Carriers', 'Currencies']"
   ]
  },
  {
   "cell_type": "code",
   "execution_count": 103,
   "id": "f7bf1cb1",
   "metadata": {},
   "outputs": [
    {
     "data": {
      "text/plain": [
       "{'QuoteId': 4,\n",
       " 'MinPrice': 92.0,\n",
       " 'Direct': False,\n",
       " 'OutboundLeg': {'CarrierIds': [1065],\n",
       "  'OriginId': 81727,\n",
       "  'DestinationId': 50290,\n",
       "  'DepartureDate': '2020-12-14T00:00:00'},\n",
       " 'QuoteDateTime': '2020-09-23T10:49:00'}"
      ]
     },
     "execution_count": 103,
     "metadata": {},
     "output_type": "execute_result"
    }
   ],
   "source": [
    "flight_data['Quotes'][3]"
   ]
  },
  {
   "cell_type": "code",
   "execution_count": 82,
   "id": "fc825355",
   "metadata": {},
   "outputs": [
    {
     "data": {
      "text/plain": [
       "{'PlaceId': 50290,\n",
       " 'IataCode': 'EWR',\n",
       " 'Name': 'New York Newark',\n",
       " 'Type': 'Station',\n",
       " 'SkyscannerCode': 'EWR',\n",
       " 'CityName': 'New York',\n",
       " 'CityId': 'NYCA',\n",
       " 'CountryName': 'United States'}"
      ]
     },
     "execution_count": 82,
     "metadata": {},
     "output_type": "execute_result"
    }
   ],
   "source": [
    "flight_data['Places'][0]"
   ]
  },
  {
   "cell_type": "code",
   "execution_count": 96,
   "id": "27233b20",
   "metadata": {},
   "outputs": [
    {
     "data": {
      "text/plain": [
       "50290"
      ]
     },
     "execution_count": 96,
     "metadata": {},
     "output_type": "execute_result"
    }
   ],
   "source": [
    "flight_data['Quotes'][0]['OutboundLeg']['DestinationId']\n"
   ]
  },
  {
   "cell_type": "code",
   "execution_count": 97,
   "id": "17eb78c8",
   "metadata": {},
   "outputs": [
    {
     "data": {
      "text/plain": [
       "{'CarrierId': 1793, 'Name': 'United'}"
      ]
     },
     "execution_count": 97,
     "metadata": {},
     "output_type": "execute_result"
    }
   ],
   "source": [
    "flight_data['Carriers'][5]"
   ]
  },
  {
   "cell_type": "code",
   "execution_count": 105,
   "id": "f8a84625",
   "metadata": {},
   "outputs": [],
   "source": [
    "def flight_info(flight_data):\n",
    "    \n",
    "    for quote in flight_data['Quotes']:\n",
    "        flight_price = quote['MinPrice']\n",
    "        print(f\"Price: {flight_price}\")\n",
    "\n",
    "        # Find and print the origin name\n",
    "        origin_id = quote['OutboundLeg']['OriginId']\n",
    "        origin_name = next((place['Name'] for place in flight_data['Places'] if place['PlaceId'] == origin_id), \"Unknown\")\n",
    "        print(f\"Origin: {origin_name}\")\n",
    "\n",
    "        # Find and print the destination name\n",
    "        destination_id = quote['OutboundLeg']['DestinationId']\n",
    "        destination_name = next((place['Name'] for place in flight_data['Places'] if place['PlaceId'] == destination_id), \"Unknown\")\n",
    "        print(f\"Destination: {destination_name}\")\n",
    "\n",
    "        # Assuming there's at least one carrier and print the company name\n",
    "        carrier_id = quote['OutboundLeg']['CarrierIds'][0]\n",
    "        company_name = next((carrier['Name'] for carrier in flight_data['Carriers'] if carrier['CarrierId'] == carrier_id), \"Unknown\")\n",
    "        print(f\"Airline: {company_name}\\n\")\n"
   ]
  },
  {
   "cell_type": "code",
   "execution_count": 107,
   "id": "ef798618",
   "metadata": {},
   "outputs": [
    {
     "name": "stdout",
     "output_type": "stream",
     "text": [
      "Price: 92.0\n",
      "Origin: San Francisco International\n",
      "Destination: New York Newark\n",
      "Airline: Frontier Airlines\n",
      "\n",
      "Price: 133.0\n",
      "Origin: San Francisco International\n",
      "Destination: New York Newark\n",
      "Airline: Alaska Airlines\n",
      "\n",
      "Price: 150.0\n",
      "Origin: San Francisco International\n",
      "Destination: New York John F. Kennedy\n",
      "Airline: Southwest Airlines\n",
      "\n",
      "Price: 92.0\n",
      "Origin: San Francisco International\n",
      "Destination: New York Newark\n",
      "Airline: Frontier Airlines\n",
      "\n"
     ]
    }
   ],
   "source": [
    "flight_info(flight_data)"
   ]
  },
  {
   "cell_type": "code",
   "execution_count": null,
   "id": "0186512f",
   "metadata": {},
   "outputs": [],
   "source": []
  },
  {
   "cell_type": "code",
   "execution_count": null,
   "id": "6d55cd7b",
   "metadata": {},
   "outputs": [],
   "source": []
  },
  {
   "cell_type": "code",
   "execution_count": null,
   "id": "bd7cdae4",
   "metadata": {},
   "outputs": [],
   "source": []
  },
  {
   "cell_type": "code",
   "execution_count": null,
   "id": "a9adbd4b",
   "metadata": {},
   "outputs": [],
   "source": []
  },
  {
   "cell_type": "code",
   "execution_count": 64,
   "id": "113a213b",
   "metadata": {},
   "outputs": [],
   "source": [
    "import os\n",
    "from bs4 import BeautifulSoup\n",
    "import numpy as np\n",
    "import pandas as pd\n",
    "import regex as re\n",
    "import requests\n",
    "\n",
    "pd.set_option('display.max_rows', None)\n",
    "pd.set_option('mode.chained_assignment',None)"
   ]
  },
  {
   "cell_type": "code",
   "execution_count": null,
   "id": "12f21c06",
   "metadata": {},
   "outputs": [],
   "source": []
  }
 ],
 "metadata": {
  "kernelspec": {
   "display_name": "Python 3 (ipykernel)",
   "language": "python",
   "name": "python3"
  },
  "language_info": {
   "codemirror_mode": {
    "name": "ipython",
    "version": 3
   },
   "file_extension": ".py",
   "mimetype": "text/x-python",
   "name": "python",
   "nbconvert_exporter": "python",
   "pygments_lexer": "ipython3",
   "version": "3.11.4"
  }
 },
 "nbformat": 4,
 "nbformat_minor": 5
}
